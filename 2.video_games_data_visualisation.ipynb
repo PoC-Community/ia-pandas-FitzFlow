{
 "cells": [
  {
   "cell_type": "markdown",
   "id": "877895de",
   "metadata": {},
   "source": [
    "# Introduction\n",
    "\n",
    "Impressive... you've finished the first part of this workshop!\\\n",
    "It's time to apply what you've learned previously.\\\n",
    "You'll learn new things too, don't worry.\n",
    "\n",
    "In this part of the workshop, you will learn how to analyze a dataset of raw data in order to draw conclusions.\\\n",
    "You will have access to a dataset that contains information from over 15,000 video games.\n",
    "\n",
    "In this workshop:\n",
    "   - Reading a dataset\n",
    "   - Data analysis\n",
    "   - Data cleaning\n",
    "   - Data visualizations\n",
    "\n",
    "For this we will use the pandas library : [pandas](https://pandas.pydata.org/)\\\n",
    "we will also use seaborn to visualize our analysis : [seaborn](https://seaborn.pydata.org/)"
   ]
  },
  {
   "cell_type": "code",
   "execution_count": null,
   "id": "017435c2",
   "metadata": {},
   "outputs": [],
   "source": [
    "import pandas as pd\n",
    "import numpy as np\n",
    "import seaborn as sns\n",
    "import matplotlib.pyplot as plt"
   ]
  },
  {
   "cell_type": "markdown",
   "id": "d366a91b",
   "metadata": {},
   "source": [
    "## I) Reading dataset\n",
    "\n",
    "The routine ... create a dataframe with the pandas function that reads a csv.\\\n",
    "Then use the head method on the dataframe to display the first rows of the dataset.\n",
    "\n",
    "**Exercice :**\\\n",
    "create a dataframe with the pandas function that reads a csv.\\\n",
    "use the head method on the dataframe to display the first rows of the dataset."
   ]
  },
  {
   "cell_type": "code",
   "execution_count": 2,
   "id": "515fc9fa",
   "metadata": {},
   "outputs": [
    {
     "name": "stdout",
     "output_type": "stream",
     "text": [
      "                       Name Platform  Year_of_Release         Genre Publisher  \\\n",
      "0                Wii Sports      Wii           2006.0        Sports  Nintendo   \n",
      "1         Super Mario Bros.      NES           1985.0      Platform  Nintendo   \n",
      "2            Mario Kart Wii      Wii           2008.0        Racing  Nintendo   \n",
      "3         Wii Sports Resort      Wii           2009.0        Sports  Nintendo   \n",
      "4  Pokemon Red/Pokemon Blue       GB           1996.0  Role-Playing  Nintendo   \n",
      "\n",
      "   NA_Sales  EU_Sales  JP_Sales  Other_Sales  Global_Sales  Critic_Score  \\\n",
      "0     41.36     28.96      3.77         8.45         82.53          76.0   \n",
      "1     29.08      3.58      6.81         0.77         40.24           NaN   \n",
      "2     15.68     12.76      3.79         3.29         35.52          82.0   \n",
      "3     15.61     10.93      3.28         2.95         32.77          80.0   \n",
      "4     11.27      8.89     10.22         1.00         31.37           NaN   \n",
      "\n",
      "   Critic_Count User_Score  User_Count Developer Rating  \n",
      "0          51.0          8       322.0  Nintendo      E  \n",
      "1           NaN        NaN         NaN       NaN    NaN  \n",
      "2          73.0        8.3       709.0  Nintendo      E  \n",
      "3          73.0          8       192.0  Nintendo      E  \n",
      "4           NaN        NaN         NaN       NaN    NaN  \n"
     ]
    }
   ],
   "source": [
    "#read the file video_games.csv and display head of dataframe\n",
    "import pandas as pd\n",
    "\n",
    "df = pd.read_csv(\"datasets/video_games.csv\")  # Assurez-vous de remplacer le chemin par le chemin réel de votre fichier CSV\n",
    "\n",
    "# Afficher les premières lignes du dataset en utilisant la méthode head\n",
    "print(df.head())"
   ]
  },
  {
   "cell_type": "markdown",
   "id": "392f3d6f",
   "metadata": {},
   "source": [
    "**Expected output:**\\\n",
    "<img src=\"./image/head.png\"/>"
   ]
  },
  {
   "cell_type": "markdown",
   "id": "104d7a76",
   "metadata": {},
   "source": [
    "The [info](https://pandas.pydata.org/pandas-docs/stable/reference/api/pandas.DataFrame.info.html) method will allow you to retrieve the information related to the dataframe.\\\n",
    "It allows you to better understand the data, which will allow you to act accordingly."
   ]
  },
  {
   "cell_type": "code",
   "execution_count": 3,
   "id": "e4cc7fa9",
   "metadata": {},
   "outputs": [
    {
     "name": "stdout",
     "output_type": "stream",
     "text": [
      "<class 'pandas.core.frame.DataFrame'>\n",
      "RangeIndex: 16719 entries, 0 to 16718\n",
      "Data columns (total 16 columns):\n",
      " #   Column           Non-Null Count  Dtype  \n",
      "---  ------           --------------  -----  \n",
      " 0   Name             16717 non-null  object \n",
      " 1   Platform         16719 non-null  object \n",
      " 2   Year_of_Release  16450 non-null  float64\n",
      " 3   Genre            16717 non-null  object \n",
      " 4   Publisher        16665 non-null  object \n",
      " 5   NA_Sales         16719 non-null  float64\n",
      " 6   EU_Sales         16719 non-null  float64\n",
      " 7   JP_Sales         16719 non-null  float64\n",
      " 8   Other_Sales      16719 non-null  float64\n",
      " 9   Global_Sales     16719 non-null  float64\n",
      " 10  Critic_Score     8137 non-null   float64\n",
      " 11  Critic_Count     8137 non-null   float64\n",
      " 12  User_Score       10015 non-null  object \n",
      " 13  User_Count       7590 non-null   float64\n",
      " 14  Developer        10096 non-null  object \n",
      " 15  Rating           9950 non-null   object \n",
      "dtypes: float64(9), object(7)\n",
      "memory usage: 2.0+ MB\n"
     ]
    }
   ],
   "source": [
    "#display informations about the dataframe\n",
    "df.info()"
   ]
  },
  {
   "cell_type": "markdown",
   "id": "fe529247",
   "metadata": {},
   "source": [
    "**Expected output:**\\\n",
    "<class 'pandas.core.frame.DataFrame'>\\\n",
    "RangeIndex: 16719 entries, 0 to 16718\\\n",
    "Data columns (total 16 columns):\\\n",
    " \\#   Column           Non-Null Count  Dtype  \\\n",
    "\\---  ------           --------------  -----\n",
    "\n",
    " 0   Name             16717 non-null  object \\\n",
    " 1   Platform         16719 non-null  object \\\n",
    " 2   Year_of_Release  16450 non-null  float64\\\n",
    " 3   Genre            16717 non-null  object\\\n",
    " 4   Publisher        16665 non-null  object\\\n",
    " 5   NA_Sales         16719 non-null  float64\\\n",
    " 6   EU_Sales         16719 non-null  float64\\\n",
    " 7   JP_Sales         16719 non-null  float64\\\n",
    " 8   Other_Sales      16719 non-null  float64\\\n",
    " 9   Global_Sales     16719 non-null  float64\\\n",
    " 10  Critic_Score     8137 non-null   float64\\\n",
    " 11  Critic_Count     8137 non-null   float64\\\n",
    " 12  User_Score       10015 non-null  object\\\n",
    " 13  User_Count       7590 non-null   float64\\\n",
    " 14  Developer        10096 non-null  object\\\n",
    " 15  Rating           9950 non-null   object \\\n",
    "dtypes: float64(9), object(7)\\\n",
    "memory usage: 2.0+ MB"
   ]
  },
  {
   "cell_type": "markdown",
   "id": "a029eaca",
   "metadata": {},
   "source": [
    "You will notice that the info() method informs you that your object is a dataframe.\\\n",
    "We also get the names of the columns and the number of values defined for each of them.\n",
    "\n",
    "You will notice that there are several functions that allow you to get information about a dataframe.\\\n",
    "In Data Science, it is a reflex to take, when you work with datasets we start by seeing how the data is composed.\n",
    "\n",
    "To continue in this direction there is an attribute that contains the names of all the columns.\n",
    "\n",
    "**Exercice :**\\\n",
    "Find and display the attribute that contains the names of the different columns."
   ]
  },
  {
   "cell_type": "code",
   "execution_count": 7,
   "id": "1ca82b16",
   "metadata": {},
   "outputs": [
    {
     "name": "stdout",
     "output_type": "stream",
     "text": [
      "Index(['Name', 'Platform', 'Year_of_Release', 'Genre', 'Publisher', 'NA_Sales',\n",
      "       'EU_Sales', 'JP_Sales', 'Other_Sales', 'Global_Sales', 'Critic_Score',\n",
      "       'Critic_Count', 'User_Score', 'User_Count', 'Developer', 'Rating'],\n",
      "      dtype='object')\n"
     ]
    }
   ],
   "source": [
    "#display the name of columns\n",
    "name = df.columns\n",
    "print(name)"
   ]
  },
  {
   "cell_type": "markdown",
   "id": "c7e20458",
   "metadata": {},
   "source": [
    "**Expected output:** Index(\\['Name', 'Platform', 'Year_of_Release', 'Genre', 'Publisher', 'NA_Sales',\n",
    "       'EU_Sales', 'JP_Sales', 'Other_Sales', 'Global_Sales', 'Critic_Score',\n",
    "       'Critic_Count', 'User_Score', 'User_Count', 'Developer', 'Rating'],\n",
    "      dtype='object')   "
   ]
  },
  {
   "cell_type": "markdown",
   "id": "17fc02e2",
   "metadata": {},
   "source": [
    "## II) Data Analysis\n",
    "\n",
    "You have observed that the dataset contains several columns of data.\n",
    "\n",
    "However, a fairly common problem in Data Science is undefined data (NaN values).\\\n",
    "It is important to know how much undefined data a dataset contains.\n",
    "\n",
    "**Exercice :**\\\n",
    "Display the percentage of missing data for each column."
   ]
  },
  {
   "cell_type": "code",
   "execution_count": 13,
   "id": "3c9d957a",
   "metadata": {},
   "outputs": [
    {
     "name": "stdout",
     "output_type": "stream",
     "text": [
      "Name                0.011962\n",
      "Platform            0.000000\n",
      "Year_of_Release     1.608948\n",
      "Genre               0.011962\n",
      "Publisher           0.322986\n",
      "NA_Sales            0.000000\n",
      "EU_Sales            0.000000\n",
      "JP_Sales            0.000000\n",
      "Other_Sales         0.000000\n",
      "Global_Sales        0.000000\n",
      "Critic_Score       51.330821\n",
      "Critic_Count       51.330821\n",
      "User_Score         40.098092\n",
      "User_Count         54.602548\n",
      "Developer          39.613613\n",
      "Rating             40.486871\n",
      "dtype: object\n"
     ]
    }
   ],
   "source": [
    "percent = (df.isna().mean() * 100).round(6)\n",
    "\n",
    "setformat = percent.map(\"{:.6f}\".format)\n",
    "\n",
    "print(setformat)"
   ]
  },
  {
   "cell_type": "markdown",
   "id": "b3305f3c",
   "metadata": {},
   "source": [
    "**Expected output:**\\\n",
    "Name&nbsp;&nbsp;                0.011962\\\n",
    "Platform        &nbsp;&nbsp;    0.000000\\\n",
    "Year_of_Release     &nbsp;&nbsp;1.608948\\\n",
    "Genre         &nbsp;&nbsp;      0.011962\\\n",
    "Publisher  &nbsp;&nbsp;         0.322986\\\n",
    "NA_Sales       &nbsp;&nbsp;     0.000000\\\n",
    "EU_Sales       &nbsp;&nbsp;     0.000000\\\n",
    "JP_Sales    &nbsp;&nbsp;        0.000000\\\n",
    "Other_Sales   &nbsp;&nbsp;      0.000000\\\n",
    "Global_Sales    &nbsp;&nbsp;    0.000000\\\n",
    "Critic_Score    &nbsp;&nbsp;   51.330821\\\n",
    "Critic_Count   &nbsp;&nbsp;    51.330821\\\n",
    "User_Score     &nbsp;&nbsp;    40.098092\\\n",
    "User_Count  &nbsp;&nbsp;       54.602548\\\n",
    "Developer       &nbsp;&nbsp;   39.613613\\\n",
    "Rating        &nbsp;&nbsp;     40.486871\\\n",
    "dtype: float64"
   ]
  },
  {
   "cell_type": "markdown",
   "id": "2e5f2f86",
   "metadata": {},
   "source": [
    "You have obtained the percentages of missing values for each column.\\\n",
    "It may be interesting to see our analyses in different forms\n",
    "\n",
    "**Exercice :**\\\n",
    "Display the number of missing values for each column."
   ]
  },
  {
   "cell_type": "code",
   "execution_count": 14,
   "id": "62758e36",
   "metadata": {},
   "outputs": [
    {
     "name": "stdout",
     "output_type": "stream",
     "text": [
      "Name                  2\n",
      "Platform              0\n",
      "Year_of_Release     269\n",
      "Genre                 2\n",
      "Publisher            54\n",
      "NA_Sales              0\n",
      "EU_Sales              0\n",
      "JP_Sales              0\n",
      "Other_Sales           0\n",
      "Global_Sales          0\n",
      "Critic_Score       8582\n",
      "Critic_Count       8582\n",
      "User_Score         6704\n",
      "User_Count         9129\n",
      "Developer          6623\n",
      "Rating             6769\n",
      "dtype: int64\n"
     ]
    }
   ],
   "source": [
    "# display the count of data missing\n",
    "missing_count = df.isna().sum()\n",
    "\n",
    "print(missing_count)"
   ]
  },
  {
   "cell_type": "markdown",
   "id": "2a9c04e9",
   "metadata": {},
   "source": [
    "**Expected output:**\\\n",
    "Name        &nbsp;          2\\\n",
    "Platform       &nbsp;       0\\\n",
    "Year_of_Release   &nbsp;  269\\\n",
    "Genre        &nbsp;         2\\\n",
    "Publisher         &nbsp;   54\\\n",
    "NA_Sales  &nbsp;            0\\\n",
    "EU_Sales        &nbsp;      0\\\n",
    "JP_Sales     &nbsp;         0\\\n",
    "Other_Sales    &nbsp;       0\\\n",
    "Global_Sales    &nbsp;      0\\\n",
    "Critic_Score  &nbsp;     8582\\\n",
    "Critic_Count  &nbsp;     8582\\\n",
    "User_Score     &nbsp;    6704\\\n",
    "User_Count     &nbsp;    9129\\\n",
    "Developer     &nbsp;     6623\\\n",
    "Rating       &nbsp;      6769\\\n",
    "dtype: int64"
   ]
  },
  {
   "cell_type": "markdown",
   "id": "e3da43a4",
   "metadata": {},
   "source": [
    "We observe that some columns contain a lot of undefined data.\\\n",
    "These columns are : ```Critic_Score```, ```Critic_Count```, ```User_Score```, ```User_Count```, ```Developer```, ```Rating```.\n",
    "\n",
    "We will deal with this problem later."
   ]
  },
  {
   "cell_type": "markdown",
   "id": "24e1b0eb",
   "metadata": {},
   "source": [
    "When analyzing data, one of the first things to do is to look at the correlations between the different columns.\\\n",
    "To do this, we use a heatmap that displays all the correlations of a dataframe.\n",
    "\n",
    "Obviously when we talk about correlations, we are talking about columns that have numerical values.\n",
    "\n",
    "**Exercice :**\\\n",
    "Select the numerical values of the dataframe."
   ]
  },
  {
   "cell_type": "code",
   "execution_count": 15,
   "id": "eb92a7a6",
   "metadata": {},
   "outputs": [
    {
     "name": "stdout",
     "output_type": "stream",
     "text": [
      "       Year_of_Release  NA_Sales  EU_Sales  JP_Sales  Other_Sales  \\\n",
      "0               2006.0     41.36     28.96      3.77         8.45   \n",
      "1               1985.0     29.08      3.58      6.81         0.77   \n",
      "2               2008.0     15.68     12.76      3.79         3.29   \n",
      "3               2009.0     15.61     10.93      3.28         2.95   \n",
      "4               1996.0     11.27      8.89     10.22         1.00   \n",
      "...                ...       ...       ...       ...          ...   \n",
      "16714           2016.0      0.00      0.00      0.01         0.00   \n",
      "16715           2006.0      0.00      0.01      0.00         0.00   \n",
      "16716           2016.0      0.00      0.00      0.01         0.00   \n",
      "16717           2003.0      0.01      0.00      0.00         0.00   \n",
      "16718           2016.0      0.00      0.00      0.01         0.00   \n",
      "\n",
      "       Global_Sales  Critic_Score  Critic_Count  User_Count  \n",
      "0             82.53          76.0          51.0       322.0  \n",
      "1             40.24           NaN           NaN         NaN  \n",
      "2             35.52          82.0          73.0       709.0  \n",
      "3             32.77          80.0          73.0       192.0  \n",
      "4             31.37           NaN           NaN         NaN  \n",
      "...             ...           ...           ...         ...  \n",
      "16714          0.01           NaN           NaN         NaN  \n",
      "16715          0.01           NaN           NaN         NaN  \n",
      "16716          0.01           NaN           NaN         NaN  \n",
      "16717          0.01           NaN           NaN         NaN  \n",
      "16718          0.01           NaN           NaN         NaN  \n",
      "\n",
      "[16719 rows x 9 columns]\n"
     ]
    }
   ],
   "source": [
    "#select numerical values\n",
    "numerical_df = df.select_dtypes(include='number')\n",
    "\n",
    "print(numerical_df)"
   ]
  },
  {
   "cell_type": "markdown",
   "id": "772c07cb",
   "metadata": {},
   "source": [
    "**Expected output:** Index(\\['Year_of_Release', 'NA_Sales', 'EU_Sales', 'JP_Sales', 'Other_Sales',\n",
    "       'Global_Sales', 'Critic_Score', 'Critic_Count', 'User_Count'],\n",
    "      dtype='object')"
   ]
  },
  {
   "cell_type": "markdown",
   "id": "57613f7a",
   "metadata": {},
   "source": [
    "Now that we have selected the numerical data from the dataframe,\\\n",
    "we would like to use a heatmap to display the different correlations.\n",
    "\n",
    "For this, we will use [Seaborn](https://seaborn.pydata.org/), a library based on Matplotlib and which allows to visualize all kinds of analysis.\n",
    "\n",
    "**Exercice :**\\\n",
    "Display a heatmap of correlation of the numerical values of the dataframe."
   ]
  },
  {
   "cell_type": "code",
   "execution_count": 18,
   "id": "0f9b62b3",
   "metadata": {},
   "outputs": [
    {
     "data": {
      "image/png": "[encoded data removed]",
      "text/plain": [
       "<Figure size 1200x800 with 2 Axes>"
      ]
     },
     "metadata": {},
     "output_type": "display_data"
    }
   ],
   "source": [
    "#display heatmap thanks to seaborn\n",
    "import seaborn as sns\n",
    "import matplotlib.pyplot as plt\n",
    "\n",
    "numerical_df = df.select_dtypes(include='number')\n",
    "\n",
    "mat = numerical_df.corr()\n",
    "\n",
    "plt.figure(figsize=(12, 8))\n",
    "sns.heatmap(mat, annot=True, cmap='coolwarm', fmt=\".2f\", linewidths=.5)\n",
    "plt.title('Heatmap of Correlation of Numerical Values')\n",
    "plt.show()"
   ]
  },
  {
   "cell_type": "markdown",
   "id": "d7c1d508",
   "metadata": {},
   "source": [
    "**Expected output:**\\\n",
    "<img src=\"./image/heatmap.png\"/>"
   ]
  },
  {
   "cell_type": "markdown",
   "id": "d2bb5b8f",
   "metadata": {},
   "source": [
    "## III) Data Cleaning"
   ]
  },
  {
   "cell_type": "markdown",
   "id": "cf39756e",
   "metadata": {},
   "source": [
    "You will remember that during our analysis we noticed that some columns were infested with undefined values.\\\n",
    "When a column contains too much undefined data, it is not usable.\n",
    "\n",
    "\n",
    "**Exerice :**\\\n",
    "Remove the columns from the dataset: ```Critic_Score```, ```Critic_Count```, ```User_Score```, ```User_Count```, ```Developer```, ```Rating```."
   ]
  },
  {
   "cell_type": "code",
   "execution_count": 33,
   "id": "1791d893",
   "metadata": {},
   "outputs": [
    {
     "name": "stdout",
     "output_type": "stream",
     "text": [
      "Before  (16719, 16)\n",
      "After  (16719, 10)\n"
     ]
    }
   ],
   "source": [
    "#df = pd.read_csv('video_games.csv')\n",
    "df = pd.read_csv('datasets/video_games.csv')\n",
    "print('Before ', df.shape)\n",
    "\n",
    "#Remove columns: Critic_Score, Critic_Count, User_Score, User_Count, Developer, Rating.\n",
    "columns_to_remove = ['Critic_Score', 'Critic_Count', 'User_Score', 'User_Count', 'Developer', 'Rating']\n",
    "df = df.drop(columns=columns_to_remove)\n",
    "print('After ', df.shape)"
   ]
  },
  {
   "cell_type": "markdown",
   "id": "a6e1ec4b",
   "metadata": {},
   "source": [
    "**Expected Result:**\\\n",
    "Before  (16719, 16)\\\n",
    "After  (16719, 10)"
   ]
  },
  {
   "cell_type": "markdown",
   "id": "e181fe73",
   "metadata": {},
   "source": [
    "When we have a column that contains few undefined values and to be able to work with it anyway it is frequent to replace the defined values by the mode.\\\n",
    "The mode is the value that appears most in the column.\\\n",
    "Be careful, this technique must be used sparingly or the results may be strongly biased.\n",
    "\n",
    "**Exercice :**\\\n",
    "Replace the undefined values in the ```Genre``` column with the mode."
   ]
  },
  {
   "cell_type": "code",
   "execution_count": 38,
   "id": "518be4a6",
   "metadata": {},
   "outputs": [],
   "source": [
    "# Filling NaN values in Genre with the mode"
   ]
  },
  {
   "cell_type": "markdown",
   "id": "7ccef9fb",
   "metadata": {},
   "source": [
    "When a column that contains unique values also contains undefined values, we prefer to delete the rows that have undefined values.\\\n",
    "This method is used for proper names, or ids for example.\n",
    "\n",
    "**Exerice :**\\\n",
    "Delete the rows that have an undefined ```Name``` value."
   ]
  },
  {
   "cell_type": "code",
   "execution_count": null,
   "id": "d4168e32",
   "metadata": {},
   "outputs": [],
   "source": [
    "# Removing the 2 missing rows from Name\n",
    "\n",
    "print('Before ', df.shape)\n",
    "# code here -> \n",
    "print('After ', df.shape)"
   ]
  },
  {
   "cell_type": "markdown",
   "id": "fdcfba13",
   "metadata": {},
   "source": [
    "**Expected Result:**\\\n",
    "Before  (16719, 10)\\\n",
    "After  (16717, 10)"
   ]
  },
  {
   "cell_type": "markdown",
   "id": "310fd461",
   "metadata": {},
   "source": [
    "**Exercice :**\\\n",
    "Perform the same task for the undefined values in the column : ```Year_of_Release```."
   ]
  },
  {
   "cell_type": "code",
   "execution_count": null,
   "id": "e324bea9",
   "metadata": {},
   "outputs": [],
   "source": [
    "# Droping 269 missing rows from Year_of_Release\n",
    "\n",
    "print('Before ', df.shape)\n",
    "# code here -> \n",
    "print('After ', df.shape)"
   ]
  },
  {
   "cell_type": "markdown",
   "id": "bd130a7a",
   "metadata": {},
   "source": [
    "**Expected Result:**\\\n",
    "Before  (16717, 10)\\\n",
    "After  (16448, 10)"
   ]
  },
  {
   "cell_type": "markdown",
   "id": "597ace03",
   "metadata": {},
   "source": [
    "**Exercice :**\\\n",
    "Perform the same task for the undefined values in the column : ```Publisher```."
   ]
  },
  {
   "cell_type": "code",
   "execution_count": null,
   "id": "31b6c375",
   "metadata": {},
   "outputs": [],
   "source": [
    "# Removing the 54 missing rows from Publisher\n",
    "\n",
    "print('Before ', df.shape)\n",
    "# code here -> \n",
    "print('After ', df.shape)\n",
    "print('-'*20)\n",
    "print(df.isna().sum())"
   ]
  },
  {
   "cell_type": "markdown",
   "id": "accf36be",
   "metadata": {},
   "source": [
    "**Expected output:**\\\n",
    "Before  (16448, 10)\\\n",
    "After  (16416, 10)\\\n",
    "--------------------\\\n",
    "Name       &nbsp;        0\\\n",
    "Platform    &nbsp;       0\\\n",
    "Year_of_Release &nbsp;   0\\\n",
    "Genre        &nbsp;      0\\\n",
    "Publisher   &nbsp;       0\\\n",
    "NA_Sales    &nbsp;       0\\\n",
    "EU_Sales     &nbsp;      0\\\n",
    "JP_Sales    &nbsp;       0\\\n",
    "Other_Sales  &nbsp;      0\\\n",
    "Global_Sales   &nbsp;    0\\\n",
    "dtype: int64"
   ]
  },
  {
   "cell_type": "markdown",
   "id": "285a0d49",
   "metadata": {},
   "source": [
    "## IV) Data Visualization"
   ]
  },
  {
   "cell_type": "markdown",
   "id": "6b907ff9",
   "metadata": {},
   "source": [
    "We now have clean data that can be analyzed.\\\n",
    "The previous steps are very important for our analysis to be relevant, that's the job of a data scientist.\n",
    "\n",
    "Now we will perform an analysis on the global sales of video games.\n",
    "\n",
    "**Exercice :**\\\n",
    "Get the 10 best-selling games with their ```Global_sales``` and their ```name```."
   ]
  },
  {
   "cell_type": "code",
   "execution_count": 29,
   "id": "6fdc137d",
   "metadata": {},
   "outputs": [
    {
     "name": "stdout",
     "output_type": "stream",
     "text": [
      "                        Name  Global_Sales\n",
      "0                 Wii Sports         82.53\n",
      "1          Super Mario Bros.         40.24\n",
      "2             Mario Kart Wii         35.52\n",
      "3          Wii Sports Resort         32.77\n",
      "4   Pokemon Red/Pokemon Blue         31.37\n",
      "5                     Tetris         30.26\n",
      "6      New Super Mario Bros.         29.80\n",
      "7                   Wii Play         28.92\n",
      "8  New Super Mario Bros. Wii         28.32\n",
      "9                  Duck Hunt         28.31\n"
     ]
    }
   ],
   "source": [
    "# Top 10 Games by Global Sales\n",
    "sales_df = df[['Name', 'Global_Sales']]\n",
    "\n",
    "top = sales_df.nlargest(10, 'Global_Sales')\n",
    "\n",
    "print(top)"
   ]
  },
  {
   "cell_type": "markdown",
   "id": "c21cd592",
   "metadata": {},
   "source": [
    "**Expected output:**\\\n",
    "<img src=\"./image/games_per_gs.png\"/>"
   ]
  },
  {
   "cell_type": "markdown",
   "id": "00cdb5f8",
   "metadata": {},
   "source": [
    "We have a dataframe that contains the 10 best selling games in history.\\\n",
    "It's good but it's not very visual, in general to present data analysis work, a part of data visualization is done in order to render our results in graphical form.\n",
    "To realize data visualization, there are several interesting libraries and notably Seaborn a library based on the matplotlib library.\n",
    "\n",
    "**Exercice :**\\\n",
    "Display a graph to see the 10 best selling games in history."
   ]
  },
  {
   "cell_type": "code",
   "execution_count": null,
   "id": "f6a1841f",
   "metadata": {},
   "outputs": [],
   "source": [
    "# Graph top 10 games by global sales."
   ]
  },
  {
   "cell_type": "markdown",
   "id": "e6eff54a",
   "metadata": {},
   "source": [
    "**Expected output:**\\\n",
    "<img src=\"./image/graph.png\"/>"
   ]
  },
  {
   "cell_type": "markdown",
   "id": "66464438",
   "metadata": {},
   "source": [
    "# Congratz !\n",
    "\n",
    "During this workshop, we were able to draw conclusions from the data, such as which games were the most sold.\\\n",
    "But all of this required a first understanding of the data, and then a cleaning of the data.\\\n",
    "Who knows what impertinent results we would have had if we had not cleaned the data?\n",
    "\n",
    "Thank you for attending this workshop.\\\n",
    "Good job, your job is done for now.\\\n",
    "You got way above our expectation, and you're entirely ready to do Data Analysis in any other mission."
   ]
  },
  {
   "cell_type": "code",
   "execution_count": null,
   "id": "b8d6ac0b",
   "metadata": {},
   "outputs": [],
   "source": []
  }
 ],
 "metadata": {
  "kernelspec": {
   "display_name": "Python 3 (ipykernel)",
   "language": "python",
   "name": "python3"
  },
  "language_info": {
   "codemirror_mode": {
    "name": "ipython",
    "version": 3
   },
   "file_extension": ".py",
   "mimetype": "text/x-python",
   "name": "python",
   "nbconvert_exporter": "python",
   "pygments_lexer": "ipython3",
   "version": "3.11.3"
  }
 },
 "nbformat": 4,
 "nbformat_minor": 5
}
